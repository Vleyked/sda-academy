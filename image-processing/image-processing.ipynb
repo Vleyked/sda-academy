{
 "cells": [
  {
   "cell_type": "code",
   "execution_count": 2,
   "metadata": {},
   "outputs": [],
   "source": [
    "import tensorflow as tf\n",
    "import numpy as np\n",
    "import matplotlib.pyplot as plt\n",
    "from tensorflow.keras.utils import to_categorical"
   ]
  },
  {
   "cell_type": "code",
   "execution_count": 3,
   "metadata": {},
   "outputs": [],
   "source": [
    "(x_train, y_train), (x_test, y_test) = tf.keras.datasets.mnist.load_data()"
   ]
  },
  {
   "cell_type": "code",
   "execution_count": 4,
   "metadata": {},
   "outputs": [
    {
     "data": {
      "text/plain": [
       "(60000, 28, 28)"
      ]
     },
     "execution_count": 4,
     "metadata": {},
     "output_type": "execute_result"
    }
   ],
   "source": [
    "x_train.shape"
   ]
  },
  {
   "cell_type": "code",
   "execution_count": 5,
   "metadata": {},
   "outputs": [],
   "source": [
    "classes = np.unique(y_train)\n",
    "classes_num = len(classes)"
   ]
  },
  {
   "cell_type": "code",
   "execution_count": 6,
   "metadata": {},
   "outputs": [
    {
     "data": {
      "text/plain": [
       "Text(0.5, 1.0, 'Ground truth: 7')"
      ]
     },
     "execution_count": 6,
     "metadata": {},
     "output_type": "execute_result"
    },
    {
     "data": {
      "image/png": "[encoded data removed]",
      "text/plain": [
       "<Figure size 720x360 with 2 Axes>"
      ]
     },
     "metadata": {
      "needs_background": "light"
     },
     "output_type": "display_data"
    }
   ],
   "source": [
    "plt.figure(figsize=[10,5])\n",
    "plt.subplot(121)\n",
    "plt.imshow(x_train[0,:,:], cmap='copper')\n",
    "plt.title(f'Ground truth: {y_train[0]}')\n",
    "\n",
    "plt.subplot(122)\n",
    "plt.imshow(x_train[0,:,:], cmap='copper')\n",
    "plt.title(f'Ground truth: {y_test[0]}')"
   ]
  },
  {
   "cell_type": "code",
   "execution_count": 7,
   "metadata": {},
   "outputs": [],
   "source": [
    "x_train = x_train.reshape(x_train.shape[0], -1)\n",
    "x_test = x_test.reshape(x_test.shape[0], -1)\n",
    "\n",
    "# Normalization\n",
    "x_train = x_train/255\n",
    "x_test = x_test/255\n",
    "\n",
    "# One hot encoding\n",
    "y_train_one_hot = tf.keras.utils.to_categorical(y_train)\n",
    "y_test_one_hot = tf.keras.utils.to_categorical(y_test)"
   ]
  },
  {
   "cell_type": "code",
   "execution_count": 8,
   "metadata": {},
   "outputs": [
    {
     "name": "stderr",
     "output_type": "stream",
     "text": [
      "2023-01-15 11:41:15.570626: I tensorflow/core/platform/cpu_feature_guard.cc:151] This TensorFlow binary is optimized with oneAPI Deep Neural Network Library (oneDNN) to use the following CPU instructions in performance-critical operations:  AVX2 FMA\n",
      "To enable them in other operations, rebuild TensorFlow with the appropriate compiler flags.\n"
     ]
    }
   ],
   "source": [
    "# Building the CNN\n",
    "\n",
    "model = tf.keras.models.Sequential()\n",
    "model.add(tf.keras.layers.Dense(512, activation='relu', input_shape=(x_train.shape[1],)))\n",
    "model.add(tf.keras.layers.Dense(512, activation='relu'))\n",
    "model.add(tf.keras.layers.Dense(classes_num, activation='softmax'))\n",
    "\n",
    "model.compile(optimizer='rmsprop', loss='categorical_crossentropy', metrics=['accuracy'])"
   ]
  },
  {
   "cell_type": "code",
   "execution_count": 9,
   "metadata": {},
   "outputs": [
    {
     "name": "stdout",
     "output_type": "stream",
     "text": [
      "Model: \"sequential\"\n",
      "_________________________________________________________________\n",
      " Layer (type)                Output Shape              Param #   \n",
      "=================================================================\n",
      " dense (Dense)               (None, 512)               401920    \n",
      "                                                                 \n",
      " dense_1 (Dense)             (None, 512)               262656    \n",
      "                                                                 \n",
      " dense_2 (Dense)             (None, 10)                5130      \n",
      "                                                                 \n",
      "=================================================================\n",
      "Total params: 669,706\n",
      "Trainable params: 669,706\n",
      "Non-trainable params: 0\n",
      "_________________________________________________________________\n"
     ]
    }
   ],
   "source": [
    "model.summary()"
   ]
  },
  {
   "cell_type": "code",
   "execution_count": 10,
   "metadata": {},
   "outputs": [
    {
     "name": "stdout",
     "output_type": "stream",
     "text": [
      "Epoch 1/10\n",
      "117/117 [==============================] - 2s 15ms/step - loss: 0.3567 - accuracy: 0.8889 - val_loss: 0.1979 - val_accuracy: 0.9348\n",
      "Epoch 2/10\n",
      "117/117 [==============================] - 2s 14ms/step - loss: 0.1271 - accuracy: 0.9607 - val_loss: 0.1237 - val_accuracy: 0.9589\n",
      "Epoch 3/10\n",
      "117/117 [==============================] - 1s 12ms/step - loss: 0.0801 - accuracy: 0.9749 - val_loss: 0.0993 - val_accuracy: 0.9685\n",
      "Epoch 4/10\n",
      "117/117 [==============================] - 1s 12ms/step - loss: 0.0537 - accuracy: 0.9829 - val_loss: 0.0742 - val_accuracy: 0.9780\n",
      "Epoch 5/10\n",
      "117/117 [==============================] - 1s 12ms/step - loss: 0.0387 - accuracy: 0.9879 - val_loss: 0.0819 - val_accuracy: 0.9755\n",
      "Epoch 6/10\n",
      "117/117 [==============================] - 1s 12ms/step - loss: 0.0285 - accuracy: 0.9909 - val_loss: 0.0782 - val_accuracy: 0.9777\n",
      "Epoch 7/10\n",
      "117/117 [==============================] - 1s 12ms/step - loss: 0.0212 - accuracy: 0.9934 - val_loss: 0.0680 - val_accuracy: 0.9822\n",
      "Epoch 8/10\n",
      "117/117 [==============================] - 1s 12ms/step - loss: 0.0162 - accuracy: 0.9948 - val_loss: 0.0734 - val_accuracy: 0.9808\n",
      "Epoch 9/10\n",
      "117/117 [==============================] - 2s 21ms/step - loss: 0.0135 - accuracy: 0.9959 - val_loss: 0.0664 - val_accuracy: 0.9832\n",
      "Epoch 10/10\n",
      "117/117 [==============================] - 1s 13ms/step - loss: 0.0106 - accuracy: 0.9967 - val_loss: 0.0879 - val_accuracy: 0.9794\n"
     ]
    }
   ],
   "source": [
    "from tensorflow.python.ops.batch_ops import batch\n",
    "history = model.fit(x_train, y_train_one_hot, batch_size=516, epochs=10, verbose=True, validation_data=(x_test, y_test_one_hot))"
   ]
  },
  {
   "cell_type": "code",
   "execution_count": 32,
   "metadata": {},
   "outputs": [
    {
     "name": "stderr",
     "output_type": "stream",
     "text": [
      "WARNING:absl:Found untraced functions such as _update_step_xla while saving (showing 1 of 1). These functions will not be directly callable after loading.\n"
     ]
    },
    {
     "name": "stdout",
     "output_type": "stream",
     "text": [
      "INFO:tensorflow:Assets written to: handwriting.model\\assets\n"
     ]
    },
    {
     "name": "stderr",
     "output_type": "stream",
     "text": [
      "INFO:tensorflow:Assets written to: handwriting.model\\assets\n"
     ]
    }
   ],
   "source": [
    "model.save('handwriting.model')"
   ]
  },
  {
   "cell_type": "markdown",
   "metadata": {},
   "source": [
    "import cv2 as cv\n",
    "\n",
    "img = cv.imread('img.jpg')[:,:,0]\n",
    "img = np.invert(np.array([img]))\n",
    "prediciton = model.predict(img)\n",
    "\n",
    "print(f\"The digit is probably {np.argmax(prediction)}\")\n",
    "#plt.imshow(img[0], cmap=plt.cm.binary)\n",
    "#plt.show()"
   ]
  },
  {
   "cell_type": "markdown",
   "metadata": {},
   "source": []
  },
  {
   "cell_type": "markdown",
   "metadata": {},
   "source": []
  }
 ],
 "metadata": {
  "kernelspec": {
   "display_name": "Python 3",
   "language": "python",
   "name": "python3"
  },
  "language_info": {
   "codemirror_mode": {
    "name": "ipython",
    "version": 3
   },
   "file_extension": ".py",
   "mimetype": "text/x-python",
   "name": "python",
   "nbconvert_exporter": "python",
   "pygments_lexer": "ipython3",
   "version": "3.10.9"
  },
  "orig_nbformat": 4,
  "vscode": {
   "interpreter": {
    "hash": "aee8b7b246df8f9039afb4144a1f6fd8d2ca17a180786b69acc140d282b71a49"
   }
  }
 },
 "nbformat": 4,
 "nbformat_minor": 2
}
